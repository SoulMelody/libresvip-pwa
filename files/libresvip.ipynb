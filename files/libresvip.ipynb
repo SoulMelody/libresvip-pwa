{
 "cells": [
  {
   "cell_type": "markdown",
   "metadata": {},
   "source": [
    "## Install dependencies (安装依赖项)"
   ]
  },
  {
   "cell_type": "code",
   "execution_count": null,
   "metadata": {
    "trusted": true
   },
   "outputs": [],
   "source": [
    "%pip install -r requirements.txt\n",
    "%pip install libresvip --no-deps"
   ]
  },
  {
   "cell_type": "markdown",
   "metadata": {},
   "source": [
    "## Set display language to Chinese (Optional)\n",
    "## 设置显示语言为中文 (可选)"
   ]
  },
  {
   "cell_type": "code",
   "execution_count": null,
   "metadata": {
    "trusted": true
   },
   "outputs": [],
   "source": [
    "from libresvip.core.config import Language, settings\n",
    "from libresvip.extension.manager import get_translation\n",
    "from libresvip.utils import translation\n",
    "\n",
    "settings.language = Language.CHINESE\n",
    "\n",
    "translation.singleton_translation = get_translation()"
   ]
  },
  {
   "cell_type": "code",
   "execution_count": null,
   "metadata": {
    "trusted": true
   },
   "outputs": [],
   "source": [
    "import enum\n",
    "from typing import get_args, get_type_hints\n",
    "\n",
    "from pydantic import BaseModel\n",
    "from pydantic_core import PydanticUndefined\n",
    "from pydantic_extra_types.color import Color\n",
    "\n",
    "from libresvip.model.base import BaseComplexModel\n",
    "from libresvip.utils.translation import gettext_lazy as _\n",
    "\n",
    "def generate_model_json_schema(option_class: BaseModel, description: str = \"\") -> dict:\n",
    "    schema = {\n",
    "        \"type\": \"object\",\n",
    "        \"$defs\": {},\n",
    "        \"title\": option_class.__name__,\n",
    "        \"properties\": {},\n",
    "        \"required\": []\n",
    "    }\n",
    "    if description:\n",
    "        schema[\"description\"] = _(description)\n",
    "    for option_key, field_info in option_class.model_fields.items():\n",
    "        schema[\"required\"].append(option_key)\n",
    "        default_value = None if field_info.default is PydanticUndefined else field_info.default\n",
    "        field_kwargs = {\"title\": _(field_info.title)}\n",
    "        if field_info.description is not None:\n",
    "            field_kwargs[\"description\"] = _(field_info.description)\n",
    "        if issubclass(field_info.annotation, bool):\n",
    "            schema[\"properties\"][option_key] = {\n",
    "                \"type\": \"boolean\",\n",
    "                \"x-display\": \"switch\",\n",
    "                \"default\": default_value,\n",
    "                **field_kwargs\n",
    "            }\n",
    "        elif issubclass(field_info.annotation, enum.Enum):\n",
    "            if default_value is not None:\n",
    "                default_value = str(default_value.value)\n",
    "            annotations = get_type_hints(field_info.annotation, include_extras=True)\n",
    "            choices = []\n",
    "            for enum_item in field_info.annotation:\n",
    "                if enum_item.name in annotations:\n",
    "                    annotated_args = list(get_args(annotations[enum_item.name]))\n",
    "                    if len(annotated_args) >= 2:\n",
    "                        arg_0, enum_field = annotated_args[:2]\n",
    "                    else:\n",
    "                        continue\n",
    "                    choice = {\n",
    "                        \"const\": enum_item.value,\n",
    "                        \"title\": _(enum_field.title)\n",
    "                    }\n",
    "                    choices.append(choice)\n",
    "            schema[\"properties\"][option_key] = {\n",
    "                \"type\": \"string\",\n",
    "                \"default\": default_value,\n",
    "                \"oneOf\": choices,\n",
    "                **field_kwargs\n",
    "            }\n",
    "        elif issubclass(field_info.annotation, int):\n",
    "            schema[\"properties\"][option_key] = {\n",
    "                \"type\": \"integer\",\n",
    "                \"default\": default_value,\n",
    "                **field_kwargs\n",
    "            }\n",
    "        elif issubclass(field_info.annotation, float):\n",
    "            schema[\"properties\"][option_key] = {\n",
    "                \"type\": \"number\",\n",
    "                \"default\": default_value,\n",
    "                **field_kwargs\n",
    "            }\n",
    "        else:\n",
    "            if issubclass(field_info.annotation, Color):\n",
    "                field_kwargs[\"x-display\"] = \"color-picker\"\n",
    "            elif issubclass(field_info.annotation, BaseComplexModel):\n",
    "                default_value = field_info.annotation.default_repr()\n",
    "            schema[\"properties\"][option_key] = {\n",
    "                \"type\": \"string\",\n",
    "                \"default\": default_value,\n",
    "                **field_kwargs\n",
    "            }\n",
    "    return schema"
   ]
  },
  {
   "cell_type": "code",
   "execution_count": null,
   "metadata": {
    "trusted": true
   },
   "outputs": [],
   "source": [
    "import ipyvuetify as v\n",
    "import reacton\n",
    "import reacton.ipyvuetify as rv\n",
    "import reacton.ipywidgets as w\n",
    "import traitlets\n",
    "\n",
    "class TryVjsf(v.VuetifyTemplate):\n",
    "    template_file = \"vjsf.vue\"\n",
    "\n",
    "    vjsf_loaded = traitlets.Bool(False).tag(sync=True)\n",
    "    form_data = traitlets.Dict(default_value={}).tag(sync=True)\n",
    "    schema = traitlets.Dict().tag(sync=True)\n",
    "    valid = traitlets.Bool(False).tag(sync=True)"
   ]
  },
  {
   "cell_type": "code",
   "execution_count": null,
   "metadata": {
    "trusted": true
   },
   "outputs": [],
   "source": [
    "from typing import Literal\n",
    "\n",
    "from pydantic import BaseModel, Field\n",
    "\n",
    "from libresvip.extension.manager import plugin_manager\n",
    "\n",
    "\n",
    "class FileFormats(BaseModel):\n",
    "    __doc__ = _(\"\"\"Choose file format\"\"\")\n",
    "    input_format: Literal[*plugin_manager.plugin_registry] = Field(title=_(\"Import format\"))\n",
    "    output_format: Literal[*plugin_manager.plugin_registry] = Field(title=_(\"Export format\"))\n",
    "\n",
    "file_formats_form = TryVjsf(schema=FileFormats.model_json_schema())\n",
    "file_formats_form"
   ]
  },
  {
   "cell_type": "code",
   "execution_count": null,
   "metadata": {
    "trusted": true
   },
   "outputs": [],
   "source": [
    "if not file_formats_form.valid:\n",
    "    raise ValueError"
   ]
  },
  {
   "cell_type": "code",
   "execution_count": null,
   "metadata": {
    "trusted": true
   },
   "outputs": [],
   "source": [
    "input_options_cls = get_type_hints(plugin_manager.plugin_registry[file_formats_form.form_data[\"input_format\"]].plugin_object.load)[\"options\"]\n",
    "\n",
    "input_options_form = TryVjsf(schema=generate_model_json_schema(input_options_cls, \"Input Options\"))\n",
    "input_options_form"
   ]
  },
  {
   "cell_type": "code",
   "execution_count": null,
   "metadata": {
    "trusted": true
   },
   "outputs": [],
   "source": [
    "output_options_cls = get_type_hints(plugin_manager.plugin_registry[file_formats_form.form_data[\"output_format\"]].plugin_object.dump)[\"options\"]\n",
    "\n",
    "output_options_form = TryVjsf(schema=generate_model_json_schema(output_options_cls, \"Output Options\"))\n",
    "output_options_form"
   ]
  },
  {
   "cell_type": "code",
   "execution_count": null,
   "metadata": {
    "trusted": true
   },
   "outputs": [],
   "source": [
    "from libresvip.extension.manager import middleware_manager\n",
    "\n",
    "\n",
    "class MiddlewareOptions(BaseModel):\n",
    "    __doc__ = _(\"\"\"Intermediate Processing\"\"\")\n",
    "    enabled_middlewares: list[Literal[*(_(middleware_info.name) for middleware_info in middleware_manager.plugin_registry.values())]] = Field(\n",
    "        default_factory=list, title=_(\"Enabled middlewares\")\n",
    "    )\n",
    "\n",
    "middleware_options_schema = MiddlewareOptions.model_json_schema()\n",
    "middleware_options_schema.setdefault(\"required\", [\"enabled_middlewares\"])\n",
    "for middleware_id, middleware_info in middleware_manager.plugin_registry.items():\n",
    "    option_schema = generate_model_json_schema(get_type_hints(middleware_info.plugin_object.process)[\"options\"])\n",
    "    for option_property in option_schema[\"properties\"].values():\n",
    "        option_property[\"title\"] = _(middleware_info.name) + \" - \" + option_property[\"title\"]\n",
    "    middleware_options_schema[\"properties\"].update(option_schema[\"properties\"])\n",
    "    middleware_options_schema[\"required\"].extend(option_schema[\"required\"])\n",
    "\n",
    "middleware_options_form = TryVjsf(schema=middleware_options_schema)\n",
    "middleware_options_form"
   ]
  },
  {
   "cell_type": "code",
   "execution_count": null,
   "metadata": {
    "trusted": true
   },
   "outputs": [],
   "source": [
    "select_file_schema = {\n",
    "    'type': 'object',\n",
    "    'properties': {\n",
    "        'input_file': {\n",
    "            'type': 'object',\n",
    "            'title': 'Select project file',\n",
    "            'contentMediaType': '*/*',\n",
    "            'properties': {\n",
    "                'name': {'type': 'string'},\n",
    "                'size': {'type': 'number'},\n",
    "                'type': {'type': 'string'},\n",
    "                'data': {'type': 'string'},\n",
    "                'lastModified': {\n",
    "                    'type': 'string', 'format': 'date-time'\n",
    "                }\n",
    "            },\n",
    "            'writeOnly': True\n",
    "        }\n",
    "    }\n",
    "}\n",
    "select_file_form = TryVjsf(schema=select_file_schema)\n",
    "select_file_form"
   ]
  },
  {
   "cell_type": "code",
   "execution_count": null,
   "metadata": {
    "trusted": true
   },
   "outputs": [],
   "source": [
    "import base64\n",
    "import pathlib\n",
    "import tempfile\n",
    "\n",
    "temp_path = pathlib.Path(tempfile.mkdtemp())"
   ]
  },
  {
   "cell_type": "code",
   "execution_count": null,
   "metadata": {
    "trusted": true
   },
   "outputs": [],
   "source": [
    "input_file_data = select_file_form.form_data[\"input_file\"]\n",
    "\n",
    "input_plugin = plugin_manager.plugin_registry[file_formats_form.form_data[\"input_format\"]]\n",
    "output_plugin = plugin_manager.plugin_registry[file_formats_form.form_data[\"output_format\"]]\n",
    "if (input_option_cls := get_type_hints(input_plugin.plugin_object.load).get(\"options\", None)):\n",
    "    input_option = input_option_cls.model_validate(input_options_form.form_data)\n",
    "else:\n",
    "    raise\n",
    "if (output_option_cls := get_type_hints(output_plugin.plugin_object.dump).get(\"options\", None)):\n",
    "    output_option = output_option_cls.model_validate(output_options_form.form_data)\n",
    "else:\n",
    "    raise\n",
    "has_error = False\n",
    "cur_dir = pathlib.Path(\".\")\n",
    "child_file = (temp_path / input_file_data[\"name\"])\n",
    "child_file.write_bytes(base64.b64decode(input_file_data[\"data\"]))\n",
    "target_file = (cur_dir / input_file_data[\"name\"]).with_suffix(f\".{file_formats_form.form_data['output_format']}\")\n",
    "try:\n",
    "    project = input_plugin.plugin_object.load(child_file, input_option)\n",
    "    for middleware in middleware_manager.plugin_registry.values():\n",
    "        if _(middleware.name) in middleware_options_form.form_data[\"enabled_middlewares\"]:\n",
    "            if middleware_option_cls := get_type_hints(middleware.plugin_object.process).get(\n",
    "                \"options\",\n",
    "            ):\n",
    "                middleware_option = middleware_option_cls.model_validate(middleware_options_form.form_data)\n",
    "                project = middleware.process(project, middleware_option)\n",
    "    output_plugin.plugin_object.dump(target_file, project, output_option)\n",
    "except Exception:\n",
    "    has_error = True"
   ]
  },
  {
   "cell_type": "code",
   "execution_count": null,
   "metadata": {
    "trusted": true
   },
   "outputs": [],
   "source": [
    "import base64\n",
    "\n",
    "@reacton.component\n",
    "def save(data: bytes, file_name: str) -> str:\n",
    "    try:\n",
    "        import js\n",
    "        import pyodide.ffi\n",
    "\n",
    "        js_data = pyodide.ffi.to_js(data)\n",
    "        js_blob_obj = js.Blob.new([js_data])\n",
    "        href = js.URL.createObjectURL(js_blob_obj)\n",
    "    except ImportError:\n",
    "        encoded = base64.b64encode(data).decode('utf-8')\n",
    "        href = f\"data:application/octet-stream;base64,{encoded}\"\n",
    "    return rv.Html(\n",
    "        tag='a',\n",
    "        attributes={'href': href, \"download\": file_name},\n",
    "        children=[f'Download {file_name}']\n",
    "    )"
   ]
  },
  {
   "cell_type": "code",
   "execution_count": null,
   "metadata": {
    "trusted": true
   },
   "outputs": [],
   "source": [
    "save(target_file.read_bytes(), target_file.name)"
   ]
  },
  {
   "cell_type": "code",
   "execution_count": null,
   "metadata": {
    "trusted": true
   },
   "outputs": [],
   "source": [
    "import pathlib\n",
    "\n",
    "@reacton.component\n",
    "def file_upload():\n",
    "    items, set_items = reacton.use_state([])\n",
    "\n",
    "    def on_value(values: tuple[dict]) -> None:\n",
    "        new_items = []\n",
    "        for value in values:\n",
    "            file_name = value[\"name\"]\n",
    "            new_items.append(file_name)\n",
    "            pathlib.Path(file_name).write_bytes(value[\"content\"].tobytes())\n",
    "        set_items(new_items)\n",
    "\n",
    "    with w.VBox() as main:\n",
    "        w.FileUpload(\n",
    "            accept='',\n",
    "            multiple=True,\n",
    "            on_value=on_value\n",
    "        )\n",
    "        for item in items:\n",
    "            w.Label(value=item)\n",
    "    return main\n",
    "\n",
    "file_upload()"
   ]
  }
 ],
 "metadata": {
  "kernelspec": {
   "display_name": "Python (Pyodide)",
   "language": "python",
   "name": "python"
  },
  "language_info": {
   "codemirror_mode": {
    "name": "python",
    "version": 3
   },
   "file_extension": ".py",
   "mimetype": "text/x-python",
   "name": "python",
   "nbconvert_exporter": "python",
   "pygments_lexer": "ipython3",
   "version": "3.8"
  }
 },
 "nbformat": 4,
 "nbformat_minor": 4
}

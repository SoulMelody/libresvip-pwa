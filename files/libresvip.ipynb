{
  "metadata": {
    "kernelspec": {
      "name": "python",
      "display_name": "Python (Pyodide)",
      "language": "python"
    },
    "language_info": {
      "codemirror_mode": {
        "name": "python",
        "version": 3
      },
      "file_extension": ".py",
      "mimetype": "text/x-python",
      "name": "python",
      "nbconvert_exporter": "python",
      "pygments_lexer": "ipython3",
      "version": "3.8"
    }
  },
  "nbformat_minor": 4,
  "nbformat": 4,
  "cells": [
    {
      "cell_type": "markdown",
      "source": "## Install dependencies (安装依赖项)",
      "metadata": {}
    },
    {
      "cell_type": "code",
      "source": "%pip install -r requirements.txt\n%pip install libresvip --no-deps",
      "metadata": {
        "trusted": true
      },
      "outputs": [],
      "execution_count": null
    },
    {
      "cell_type": "markdown",
      "source": "## Set display language to Chinese (Optional)\n## 设置显示语言为中文 (可选)",
      "metadata": {}
    },
    {
      "cell_type": "code",
      "source": "from libresvip.core.config import Language, settings\nfrom libresvip.extension.manager import get_translation\nfrom libresvip.utils import translation\n\nsettings.language = Language.CHINESE\n\ntranslation.singleton_translation = get_translation()",
      "metadata": {
        "trusted": true
      },
      "outputs": [],
      "execution_count": null
    },
    {
      "cell_type": "code",
      "source": "import enum\nfrom typing import get_args, get_type_hints\n\nfrom pydantic import BaseModel\nfrom pydantic_core import PydanticUndefined\nfrom pydantic_extra_types.color import Color\n\nfrom libresvip.model.base import BaseComplexModel\nfrom libresvip.utils.translation import gettext_lazy as _\n\ndef generate_model_json_schema(option_class: BaseModel, description: str = \"\") -> dict:\n    schema = {\n        \"type\": \"object\",\n        \"$defs\": {},\n        \"title\": option_class.__name__,\n        \"properties\": {},\n        \"required\": []\n    }\n    if description:\n        schema[\"description\"] = _(description)\n    for option_key, field_info in option_class.model_fields.items():\n        schema[\"required\"].append(option_key)\n        default_value = None if field_info.default is PydanticUndefined else field_info.default\n        field_kwargs = {\"title\": _(field_info.title)}\n        if field_info.description is not None:\n            field_kwargs[\"description\"] = _(field_info.description)\n        if issubclass(field_info.annotation, bool):\n            schema[\"properties\"][option_key] = {\n                \"type\": \"boolean\",\n                \"x-display\": \"switch\",\n                \"default\": default_value,\n                **field_kwargs\n            }\n        elif issubclass(field_info.annotation, enum.Enum):\n            if default_value is not None:\n                default_value = str(default_value.value)\n            annotations = get_type_hints(field_info.annotation, include_extras=True)\n            choices = []\n            for enum_item in field_info.annotation:\n                if enum_item.name in annotations:\n                    annotated_args = list(get_args(annotations[enum_item.name]))\n                    if len(annotated_args) >= 2:\n                        arg_0, enum_field = annotated_args[:2]\n                    else:\n                        continue\n                    choice = {\n                        \"const\": enum_item.value,\n                        \"title\": _(enum_field.title)\n                    }\n                    choices.append(choice)\n            schema[\"properties\"][option_key] = {\n                \"type\": \"string\",\n                \"default\": default_value,\n                \"oneOf\": choices,\n                **field_kwargs\n            }\n        elif issubclass(field_info.annotation, int):\n            schema[\"properties\"][option_key] = {\n                \"type\": \"integer\",\n                \"default\": default_value,\n                **field_kwargs\n            }\n        elif issubclass(field_info.annotation, float):\n            schema[\"properties\"][option_key] = {\n                \"type\": \"number\",\n                \"default\": default_value,\n                **field_kwargs\n            }\n        else:\n            if issubclass(field_info.annotation, Color):\n                field_kwargs[\"x-display\"] = \"color-picker\"\n            elif issubclass(field_info.annotation, BaseComplexModel):\n                default_value = field_info.annotation.default_repr()\n            schema[\"properties\"][option_key] = {\n                \"type\": \"string\",\n                \"default\": default_value,\n                **field_kwargs\n            }\n    return schema",
      "metadata": {
        "trusted": true
      },
      "outputs": [],
      "execution_count": null
    },
    {
      "cell_type": "code",
      "source": "import ipyvuetify as v\nimport reacton\nimport reacton.ipyvuetify as rv\nimport reacton.ipywidgets as w\nimport traitlets\n\nclass TryVjsf(v.VuetifyTemplate):\n    template_file = \"vjsf.vue\"\n\n    vjsf_loaded = traitlets.Bool(False).tag(sync=True)\n    form_data = traitlets.Dict(default_value={}).tag(sync=True)\n    schema = traitlets.Dict().tag(sync=True)\n    valid = traitlets.Bool(False).tag(sync=True)",
      "metadata": {
        "trusted": true
      },
      "outputs": [],
      "execution_count": null
    },
    {
      "cell_type": "code",
      "source": "from typing import Literal\n\nfrom pydantic import BaseModel, Field\n\nfrom libresvip.extension.manager import plugin_manager\n\n\nclass FileFormats(BaseModel):\n    __doc__ = _(\"\"\"Choose file format\"\"\")\n    input_format: Literal[*plugin_manager.plugin_registry] = Field(title=_(\"Import format\"))\n    output_format: Literal[*plugin_manager.plugin_registry] = Field(title=_(\"Export format\"))\n\nfile_formats_form = TryVjsf(schema=FileFormats.model_json_schema())\nfile_formats_form",
      "metadata": {
        "trusted": true
      },
      "outputs": [],
      "execution_count": null
    },
    {
      "cell_type": "code",
      "source": "from libresvip.extension.manager import middleware_manager\n\nif not file_formats_form.valid:\n    raise ValueError\n\n\nclass MiddlewareOptions(BaseModel):\n    enabled_middlewares: list[Literal[*(_(middleware_info.name) for middleware_info in middleware_manager.plugin_registry.values())]] = Field(\n        default_factory=list, title=_(\"Enabled middlewares\")\n    )\n\ninput_options_cls = get_type_hints(plugin_manager.plugin_registry[file_formats_form.form_data[\"input_format\"]].plugin_object.load)[\"options\"]\ninput_options_form = TryVjsf(schema=generate_model_json_schema(input_options_cls))\ninput_options_header = v.ExpansionPanelHeader(children=[_(\"Input Options\")])\ninput_options_content = v.ExpansionPanelContent(children=[input_options_form])\ninput_options_panel = v.ExpansionPanel(children=[input_options_header, input_options_content])\n\nmiddleware_options_schema = MiddlewareOptions.model_json_schema()\nmiddleware_options_schema.setdefault(\"required\", [\"enabled_middlewares\"])\nfor middleware_id, middleware_info in middleware_manager.plugin_registry.items():\n    option_schema = generate_model_json_schema(get_type_hints(middleware_info.plugin_object.process)[\"options\"])\n    for option_property in option_schema[\"properties\"].values():\n        option_property[\"title\"] = _(middleware_info.name) + \" - \" + option_property[\"title\"]\n    middleware_options_schema[\"properties\"].update(option_schema[\"properties\"])\n    middleware_options_schema[\"required\"].extend(option_schema[\"required\"])\n\nmiddleware_options_form = TryVjsf(schema=middleware_options_schema)\nmiddleware_options_header = v.ExpansionPanelHeader(children=[_(\"\"\"Intermediate Processing\"\"\")])\nmiddleware_options_content = v.ExpansionPanelContent(children=[middleware_options_form])\nmiddleware_options_panel = v.ExpansionPanel(children=[middleware_options_header, middleware_options_content])\n\noutput_options_cls = get_type_hints(plugin_manager.plugin_registry[file_formats_form.form_data[\"output_format\"]].plugin_object.dump)[\"options\"]\noutput_options_form = TryVjsf(schema=generate_model_json_schema(output_options_cls))\noutput_options_header = v.ExpansionPanelHeader(children=[_(\"Output Options\")])\noutput_options_content = v.ExpansionPanelContent(children=[output_options_form])\noutput_options_panel = v.ExpansionPanel(children=[output_options_header, output_options_content])\n\noption_panels = v.ExpansionPanels(children=[input_options_panel, middleware_options_panel, output_options_panel])\noption_panels",
      "metadata": {
        "trusted": true
      },
      "outputs": [],
      "execution_count": null
    },
    {
      "cell_type": "code",
      "source": "select_file_schema = {\n    'type': 'object',\n    'properties': {\n        'input_file': {\n            'type': 'object',\n            'title': 'Select project file',\n            'contentMediaType': '*/*',\n            'properties': {\n                'name': {'type': 'string'},\n                'size': {'type': 'number'},\n                'type': {'type': 'string'},\n                'data': {'type': 'string'},\n                'lastModified': {\n                    'type': 'string', 'format': 'date-time'\n                }\n            },\n            'writeOnly': True\n        }\n    }\n}\nselect_file_form = TryVjsf(schema=select_file_schema)\nselect_file_form",
      "metadata": {
        "trusted": true
      },
      "outputs": [],
      "execution_count": null
    },
    {
      "cell_type": "code",
      "source": "@reacton.component\ndef save(data: bytes, file_name: str) -> str:\n    try:\n        import js\n        import pyodide.ffi\n\n        js_data = pyodide.ffi.to_js(data)\n        js_blob_obj = js.Blob.new([js_data])\n        href = js.URL.createObjectURL(js_blob_obj)\n    except ImportError:\n        encoded = base64.b64encode(data).decode('utf-8')\n        href = f\"data:application/octet-stream;base64,{encoded}\"\n    return rv.Html(\n        tag='a',\n        attributes={'href': href, \"download\": file_name},\n        children=[f'Download {file_name}']\n    )",
      "metadata": {
        "trusted": true
      },
      "outputs": [],
      "execution_count": null
    },
    {
      "cell_type": "code",
      "source": "import base64\nimport pathlib\nimport tempfile\n\ntemp_path = pathlib.Path(tempfile.mkdtemp())\n\ninput_file_data = select_file_form.form_data[\"input_file\"]\n\ninput_plugin = plugin_manager.plugin_registry[file_formats_form.form_data[\"input_format\"]]\noutput_plugin = plugin_manager.plugin_registry[file_formats_form.form_data[\"output_format\"]]\nif (input_option_cls := get_type_hints(input_plugin.plugin_object.load).get(\"options\", None)):\n    input_option = input_option_cls.model_validate(input_options_form.form_data)\nelse:\n    raise\nif (output_option_cls := get_type_hints(output_plugin.plugin_object.dump).get(\"options\", None)):\n    output_option = output_option_cls.model_validate(output_options_form.form_data)\nelse:\n    raise\nhas_error = False\ncur_dir = pathlib.Path(\".\")\nchild_file = (temp_path / input_file_data[\"name\"])\nchild_file.write_bytes(base64.b64decode(input_file_data[\"data\"]))\ntarget_file = (cur_dir / input_file_data[\"name\"]).with_suffix(f\".{file_formats_form.form_data['output_format']}\")\nproject = input_plugin.plugin_object.load(child_file, input_option)\nfor middleware in middleware_manager.plugin_registry.values():\n    if _(middleware.name) in middleware_options_form.form_data[\"enabled_middlewares\"]:\n        if middleware_option_cls := get_type_hints(middleware.plugin_object.process).get(\"options\"):\n            middleware_option = middleware_option_cls.model_validate(middleware_options_form.form_data)\n            project = middleware.process(project, middleware_option)\noutput_plugin.plugin_object.dump(target_file, project, output_option)\nsave(target_file.read_bytes(), target_file.name)",
      "metadata": {
        "trusted": true
      },
      "outputs": [],
      "execution_count": null
    },
    {
      "cell_type": "code",
      "source": "@reacton.component\ndef file_upload():\n    items, set_items = reacton.use_state([])\n\n    def on_value(values: tuple[dict]) -> None:\n        new_items = []\n        for value in values:\n            file_name = value[\"name\"]\n            new_items.append(file_name)\n            pathlib.Path(file_name).write_bytes(value[\"content\"].tobytes())\n        set_items(new_items)\n\n    with w.VBox() as main:\n        w.FileUpload(\n            accept='',\n            multiple=True,\n            on_value=on_value\n        )\n        for item in items:\n            w.Label(value=item)\n    return main\n\nfile_upload()",
      "metadata": {
        "trusted": true
      },
      "outputs": [],
      "execution_count": null
    }
  ]
}